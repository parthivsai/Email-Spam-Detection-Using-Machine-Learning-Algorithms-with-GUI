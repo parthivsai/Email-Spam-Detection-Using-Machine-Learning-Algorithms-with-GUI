{
 "cells": [
  {
   "cell_type": "code",
   "execution_count": 74,
   "id": "96d2dfc2",
   "metadata": {},
   "outputs": [],
   "source": [
    "import pandas as pd"
   ]
  },
  {
   "cell_type": "code",
   "execution_count": 75,
   "id": "cbef7d5c",
   "metadata": {},
   "outputs": [],
   "source": [
    "df1 = pd.read_csv(\"SpamAssassin.csv\")\n",
    "df2 = pd.read_csv(\"Lingspam_Dataset.csv\")"
   ]
  },
  {
   "cell_type": "code",
   "execution_count": 76,
   "id": "92b2a04c",
   "metadata": {},
   "outputs": [],
   "source": [
    "df1.dropna(inplace = True)\n",
    "df2.dropna(inplace = True)"
   ]
  },
  {
   "cell_type": "code",
   "execution_count": 77,
   "id": "84649064",
   "metadata": {},
   "outputs": [],
   "source": [
    "X = df1.copy()\n",
    "Y = df2.copy().drop(columns = [\"subject\"])"
   ]
  },
  {
   "cell_type": "code",
   "execution_count": 78,
   "id": "af39f128",
   "metadata": {},
   "outputs": [
    {
     "name": "stderr",
     "output_type": "stream",
     "text": [
      "[nltk_data] Downloading package punkt to\n",
      "[nltk_data]     C:\\Users\\USER\\AppData\\Roaming\\nltk_data...\n",
      "[nltk_data]   Package punkt is already up-to-date!\n"
     ]
    },
    {
     "data": {
      "text/plain": [
       "True"
      ]
     },
     "execution_count": 78,
     "metadata": {},
     "output_type": "execute_result"
    }
   ],
   "source": [
    "import nltk\n",
    "nltk.download('punkt')"
   ]
  },
  {
   "cell_type": "markdown",
   "id": "c0a56699",
   "metadata": {},
   "source": [
    "# Calculating number of characters,words,sentences"
   ]
  },
  {
   "cell_type": "code",
   "execution_count": 79,
   "id": "cb098c9e",
   "metadata": {},
   "outputs": [],
   "source": [
    "df1['num_characters'] = df1[\"email\"].apply(len)"
   ]
  },
  {
   "cell_type": "code",
   "execution_count": 80,
   "id": "c4b60444",
   "metadata": {},
   "outputs": [
    {
     "data": {
      "text/html": [
       "<div>\n",
       "<style scoped>\n",
       "    .dataframe tbody tr th:only-of-type {\n",
       "        vertical-align: middle;\n",
       "    }\n",
       "\n",
       "    .dataframe tbody tr th {\n",
       "        vertical-align: top;\n",
       "    }\n",
       "\n",
       "    .dataframe thead th {\n",
       "        text-align: right;\n",
       "    }\n",
       "</style>\n",
       "<table border=\"1\" class=\"dataframe\">\n",
       "  <thead>\n",
       "    <tr style=\"text-align: right;\">\n",
       "      <th></th>\n",
       "      <th>email</th>\n",
       "      <th>label</th>\n",
       "      <th>num_characters</th>\n",
       "    </tr>\n",
       "  </thead>\n",
       "  <tbody>\n",
       "    <tr>\n",
       "      <th>0</th>\n",
       "      <td>date wed NUMBER aug NUMBER NUMBER NUMBER NUMB...</td>\n",
       "      <td>0</td>\n",
       "      <td>1522</td>\n",
       "    </tr>\n",
       "    <tr>\n",
       "      <th>1</th>\n",
       "      <td>martin a posted tassos papadopoulos the greek ...</td>\n",
       "      <td>0</td>\n",
       "      <td>643</td>\n",
       "    </tr>\n",
       "    <tr>\n",
       "      <th>2</th>\n",
       "      <td>man threatens explosion in moscow thursday aug...</td>\n",
       "      <td>0</td>\n",
       "      <td>1509</td>\n",
       "    </tr>\n",
       "    <tr>\n",
       "      <th>3</th>\n",
       "      <td>klez the virus that won t die already the most...</td>\n",
       "      <td>0</td>\n",
       "      <td>1015</td>\n",
       "    </tr>\n",
       "    <tr>\n",
       "      <th>4</th>\n",
       "      <td>in adding cream to spaghetti carbonara which ...</td>\n",
       "      <td>0</td>\n",
       "      <td>771</td>\n",
       "    </tr>\n",
       "  </tbody>\n",
       "</table>\n",
       "</div>"
      ],
      "text/plain": [
       "                                               email  label  num_characters\n",
       "0   date wed NUMBER aug NUMBER NUMBER NUMBER NUMB...      0            1522\n",
       "1  martin a posted tassos papadopoulos the greek ...      0             643\n",
       "2  man threatens explosion in moscow thursday aug...      0            1509\n",
       "3  klez the virus that won t die already the most...      0            1015\n",
       "4   in adding cream to spaghetti carbonara which ...      0             771"
      ]
     },
     "execution_count": 80,
     "metadata": {},
     "output_type": "execute_result"
    }
   ],
   "source": [
    "df1.head()"
   ]
  },
  {
   "cell_type": "code",
   "execution_count": 81,
   "id": "8415d594",
   "metadata": {},
   "outputs": [],
   "source": [
    "df1[\"num_words\"] = df1['email'].apply(lambda x:len(nltk.word_tokenize(x)))"
   ]
  },
  {
   "cell_type": "code",
   "execution_count": 82,
   "id": "29c016eb",
   "metadata": {
    "scrolled": true
   },
   "outputs": [
    {
     "data": {
      "text/html": [
       "<div>\n",
       "<style scoped>\n",
       "    .dataframe tbody tr th:only-of-type {\n",
       "        vertical-align: middle;\n",
       "    }\n",
       "\n",
       "    .dataframe tbody tr th {\n",
       "        vertical-align: top;\n",
       "    }\n",
       "\n",
       "    .dataframe thead th {\n",
       "        text-align: right;\n",
       "    }\n",
       "</style>\n",
       "<table border=\"1\" class=\"dataframe\">\n",
       "  <thead>\n",
       "    <tr style=\"text-align: right;\">\n",
       "      <th></th>\n",
       "      <th>email</th>\n",
       "      <th>label</th>\n",
       "      <th>num_characters</th>\n",
       "      <th>num_words</th>\n",
       "    </tr>\n",
       "  </thead>\n",
       "  <tbody>\n",
       "    <tr>\n",
       "      <th>0</th>\n",
       "      <td>date wed NUMBER aug NUMBER NUMBER NUMBER NUMB...</td>\n",
       "      <td>0</td>\n",
       "      <td>1522</td>\n",
       "      <td>257</td>\n",
       "    </tr>\n",
       "    <tr>\n",
       "      <th>1</th>\n",
       "      <td>martin a posted tassos papadopoulos the greek ...</td>\n",
       "      <td>0</td>\n",
       "      <td>643</td>\n",
       "      <td>113</td>\n",
       "    </tr>\n",
       "    <tr>\n",
       "      <th>2</th>\n",
       "      <td>man threatens explosion in moscow thursday aug...</td>\n",
       "      <td>0</td>\n",
       "      <td>1509</td>\n",
       "      <td>256</td>\n",
       "    </tr>\n",
       "    <tr>\n",
       "      <th>3</th>\n",
       "      <td>klez the virus that won t die already the most...</td>\n",
       "      <td>0</td>\n",
       "      <td>1015</td>\n",
       "      <td>169</td>\n",
       "    </tr>\n",
       "    <tr>\n",
       "      <th>4</th>\n",
       "      <td>in adding cream to spaghetti carbonara which ...</td>\n",
       "      <td>0</td>\n",
       "      <td>771</td>\n",
       "      <td>144</td>\n",
       "    </tr>\n",
       "  </tbody>\n",
       "</table>\n",
       "</div>"
      ],
      "text/plain": [
       "                                               email  label  num_characters  \\\n",
       "0   date wed NUMBER aug NUMBER NUMBER NUMBER NUMB...      0            1522   \n",
       "1  martin a posted tassos papadopoulos the greek ...      0             643   \n",
       "2  man threatens explosion in moscow thursday aug...      0            1509   \n",
       "3  klez the virus that won t die already the most...      0            1015   \n",
       "4   in adding cream to spaghetti carbonara which ...      0             771   \n",
       "\n",
       "   num_words  \n",
       "0        257  \n",
       "1        113  \n",
       "2        256  \n",
       "3        169  \n",
       "4        144  "
      ]
     },
     "execution_count": 82,
     "metadata": {},
     "output_type": "execute_result"
    }
   ],
   "source": [
    "df1.head()"
   ]
  },
  {
   "cell_type": "code",
   "execution_count": 83,
   "id": "bf19ff3a",
   "metadata": {},
   "outputs": [],
   "source": [
    "df1[\"num_sentences\"] = df1['email'].apply(lambda x:len(nltk.sent_tokenize(x)))"
   ]
  },
  {
   "cell_type": "code",
   "execution_count": 84,
   "id": "5d594052",
   "metadata": {},
   "outputs": [
    {
     "data": {
      "text/html": [
       "<div>\n",
       "<style scoped>\n",
       "    .dataframe tbody tr th:only-of-type {\n",
       "        vertical-align: middle;\n",
       "    }\n",
       "\n",
       "    .dataframe tbody tr th {\n",
       "        vertical-align: top;\n",
       "    }\n",
       "\n",
       "    .dataframe thead th {\n",
       "        text-align: right;\n",
       "    }\n",
       "</style>\n",
       "<table border=\"1\" class=\"dataframe\">\n",
       "  <thead>\n",
       "    <tr style=\"text-align: right;\">\n",
       "      <th></th>\n",
       "      <th>email</th>\n",
       "      <th>label</th>\n",
       "      <th>num_characters</th>\n",
       "      <th>num_words</th>\n",
       "      <th>num_sentences</th>\n",
       "    </tr>\n",
       "  </thead>\n",
       "  <tbody>\n",
       "    <tr>\n",
       "      <th>0</th>\n",
       "      <td>date wed NUMBER aug NUMBER NUMBER NUMBER NUMB...</td>\n",
       "      <td>0</td>\n",
       "      <td>1522</td>\n",
       "      <td>257</td>\n",
       "      <td>1</td>\n",
       "    </tr>\n",
       "    <tr>\n",
       "      <th>1</th>\n",
       "      <td>martin a posted tassos papadopoulos the greek ...</td>\n",
       "      <td>0</td>\n",
       "      <td>643</td>\n",
       "      <td>113</td>\n",
       "      <td>1</td>\n",
       "    </tr>\n",
       "    <tr>\n",
       "      <th>2</th>\n",
       "      <td>man threatens explosion in moscow thursday aug...</td>\n",
       "      <td>0</td>\n",
       "      <td>1509</td>\n",
       "      <td>256</td>\n",
       "      <td>1</td>\n",
       "    </tr>\n",
       "    <tr>\n",
       "      <th>3</th>\n",
       "      <td>klez the virus that won t die already the most...</td>\n",
       "      <td>0</td>\n",
       "      <td>1015</td>\n",
       "      <td>169</td>\n",
       "      <td>1</td>\n",
       "    </tr>\n",
       "    <tr>\n",
       "      <th>4</th>\n",
       "      <td>in adding cream to spaghetti carbonara which ...</td>\n",
       "      <td>0</td>\n",
       "      <td>771</td>\n",
       "      <td>144</td>\n",
       "      <td>1</td>\n",
       "    </tr>\n",
       "  </tbody>\n",
       "</table>\n",
       "</div>"
      ],
      "text/plain": [
       "                                               email  label  num_characters  \\\n",
       "0   date wed NUMBER aug NUMBER NUMBER NUMBER NUMB...      0            1522   \n",
       "1  martin a posted tassos papadopoulos the greek ...      0             643   \n",
       "2  man threatens explosion in moscow thursday aug...      0            1509   \n",
       "3  klez the virus that won t die already the most...      0            1015   \n",
       "4   in adding cream to spaghetti carbonara which ...      0             771   \n",
       "\n",
       "   num_words  num_sentences  \n",
       "0        257              1  \n",
       "1        113              1  \n",
       "2        256              1  \n",
       "3        169              1  \n",
       "4        144              1  "
      ]
     },
     "execution_count": 84,
     "metadata": {},
     "output_type": "execute_result"
    }
   ],
   "source": [
    "df1.head()"
   ]
  },
  {
   "cell_type": "code",
   "execution_count": 85,
   "id": "800406f2",
   "metadata": {},
   "outputs": [],
   "source": [
    "df2['num_characters'] = df2[\"message\"].apply(len)"
   ]
  },
  {
   "cell_type": "code",
   "execution_count": 86,
   "id": "d2ac8b50",
   "metadata": {},
   "outputs": [
    {
     "data": {
      "text/html": [
       "<div>\n",
       "<style scoped>\n",
       "    .dataframe tbody tr th:only-of-type {\n",
       "        vertical-align: middle;\n",
       "    }\n",
       "\n",
       "    .dataframe tbody tr th {\n",
       "        vertical-align: top;\n",
       "    }\n",
       "\n",
       "    .dataframe thead th {\n",
       "        text-align: right;\n",
       "    }\n",
       "</style>\n",
       "<table border=\"1\" class=\"dataframe\">\n",
       "  <thead>\n",
       "    <tr style=\"text-align: right;\">\n",
       "      <th></th>\n",
       "      <th>subject</th>\n",
       "      <th>message</th>\n",
       "      <th>label</th>\n",
       "      <th>num_characters</th>\n",
       "    </tr>\n",
       "  </thead>\n",
       "  <tbody>\n",
       "    <tr>\n",
       "      <th>0</th>\n",
       "      <td>job posting - apple-iss research center</td>\n",
       "      <td>content - length : 3386 apple-iss research cen...</td>\n",
       "      <td>0</td>\n",
       "      <td>2856</td>\n",
       "    </tr>\n",
       "    <tr>\n",
       "      <th>2</th>\n",
       "      <td>query : letter frequencies for text identifica...</td>\n",
       "      <td>i am posting this inquiry for sergei atamas ( ...</td>\n",
       "      <td>0</td>\n",
       "      <td>1435</td>\n",
       "    </tr>\n",
       "    <tr>\n",
       "      <th>3</th>\n",
       "      <td>risk</td>\n",
       "      <td>a colleague and i are researching the differin...</td>\n",
       "      <td>0</td>\n",
       "      <td>324</td>\n",
       "    </tr>\n",
       "    <tr>\n",
       "      <th>4</th>\n",
       "      <td>request book information</td>\n",
       "      <td>earlier this morning i was on the phone with a...</td>\n",
       "      <td>0</td>\n",
       "      <td>1046</td>\n",
       "    </tr>\n",
       "    <tr>\n",
       "      <th>5</th>\n",
       "      <td>call for abstracts : optimality in syntactic t...</td>\n",
       "      <td>content - length : 4437 call for papers is the...</td>\n",
       "      <td>0</td>\n",
       "      <td>4492</td>\n",
       "    </tr>\n",
       "  </tbody>\n",
       "</table>\n",
       "</div>"
      ],
      "text/plain": [
       "                                             subject  \\\n",
       "0            job posting - apple-iss research center   \n",
       "2  query : letter frequencies for text identifica...   \n",
       "3                                               risk   \n",
       "4                           request book information   \n",
       "5  call for abstracts : optimality in syntactic t...   \n",
       "\n",
       "                                             message  label  num_characters  \n",
       "0  content - length : 3386 apple-iss research cen...      0            2856  \n",
       "2  i am posting this inquiry for sergei atamas ( ...      0            1435  \n",
       "3  a colleague and i are researching the differin...      0             324  \n",
       "4  earlier this morning i was on the phone with a...      0            1046  \n",
       "5  content - length : 4437 call for papers is the...      0            4492  "
      ]
     },
     "execution_count": 86,
     "metadata": {},
     "output_type": "execute_result"
    }
   ],
   "source": [
    "df2.head()"
   ]
  },
  {
   "cell_type": "code",
   "execution_count": 87,
   "id": "a50cf401",
   "metadata": {},
   "outputs": [],
   "source": [
    "df2[\"num_words\"] = df2['message'].apply(lambda x:len(nltk.word_tokenize(x)))"
   ]
  },
  {
   "cell_type": "code",
   "execution_count": 88,
   "id": "39621766",
   "metadata": {},
   "outputs": [
    {
     "data": {
      "text/html": [
       "<div>\n",
       "<style scoped>\n",
       "    .dataframe tbody tr th:only-of-type {\n",
       "        vertical-align: middle;\n",
       "    }\n",
       "\n",
       "    .dataframe tbody tr th {\n",
       "        vertical-align: top;\n",
       "    }\n",
       "\n",
       "    .dataframe thead th {\n",
       "        text-align: right;\n",
       "    }\n",
       "</style>\n",
       "<table border=\"1\" class=\"dataframe\">\n",
       "  <thead>\n",
       "    <tr style=\"text-align: right;\">\n",
       "      <th></th>\n",
       "      <th>subject</th>\n",
       "      <th>message</th>\n",
       "      <th>label</th>\n",
       "      <th>num_characters</th>\n",
       "      <th>num_words</th>\n",
       "    </tr>\n",
       "  </thead>\n",
       "  <tbody>\n",
       "    <tr>\n",
       "      <th>0</th>\n",
       "      <td>job posting - apple-iss research center</td>\n",
       "      <td>content - length : 3386 apple-iss research cen...</td>\n",
       "      <td>0</td>\n",
       "      <td>2856</td>\n",
       "      <td>584</td>\n",
       "    </tr>\n",
       "    <tr>\n",
       "      <th>2</th>\n",
       "      <td>query : letter frequencies for text identifica...</td>\n",
       "      <td>i am posting this inquiry for sergei atamas ( ...</td>\n",
       "      <td>0</td>\n",
       "      <td>1435</td>\n",
       "      <td>280</td>\n",
       "    </tr>\n",
       "    <tr>\n",
       "      <th>3</th>\n",
       "      <td>risk</td>\n",
       "      <td>a colleague and i are researching the differin...</td>\n",
       "      <td>0</td>\n",
       "      <td>324</td>\n",
       "      <td>60</td>\n",
       "    </tr>\n",
       "    <tr>\n",
       "      <th>4</th>\n",
       "      <td>request book information</td>\n",
       "      <td>earlier this morning i was on the phone with a...</td>\n",
       "      <td>0</td>\n",
       "      <td>1046</td>\n",
       "      <td>232</td>\n",
       "    </tr>\n",
       "    <tr>\n",
       "      <th>5</th>\n",
       "      <td>call for abstracts : optimality in syntactic t...</td>\n",
       "      <td>content - length : 4437 call for papers is the...</td>\n",
       "      <td>0</td>\n",
       "      <td>4492</td>\n",
       "      <td>861</td>\n",
       "    </tr>\n",
       "  </tbody>\n",
       "</table>\n",
       "</div>"
      ],
      "text/plain": [
       "                                             subject  \\\n",
       "0            job posting - apple-iss research center   \n",
       "2  query : letter frequencies for text identifica...   \n",
       "3                                               risk   \n",
       "4                           request book information   \n",
       "5  call for abstracts : optimality in syntactic t...   \n",
       "\n",
       "                                             message  label  num_characters  \\\n",
       "0  content - length : 3386 apple-iss research cen...      0            2856   \n",
       "2  i am posting this inquiry for sergei atamas ( ...      0            1435   \n",
       "3  a colleague and i are researching the differin...      0             324   \n",
       "4  earlier this morning i was on the phone with a...      0            1046   \n",
       "5  content - length : 4437 call for papers is the...      0            4492   \n",
       "\n",
       "   num_words  \n",
       "0        584  \n",
       "2        280  \n",
       "3         60  \n",
       "4        232  \n",
       "5        861  "
      ]
     },
     "execution_count": 88,
     "metadata": {},
     "output_type": "execute_result"
    }
   ],
   "source": [
    "df2.head()"
   ]
  },
  {
   "cell_type": "code",
   "execution_count": 89,
   "id": "294b541f",
   "metadata": {},
   "outputs": [],
   "source": [
    "df2[\"num_sentences\"] = df2['message'].apply(lambda x:len(nltk.sent_tokenize(x)))"
   ]
  },
  {
   "cell_type": "code",
   "execution_count": 90,
   "id": "11cdc3c9",
   "metadata": {},
   "outputs": [
    {
     "data": {
      "text/html": [
       "<div>\n",
       "<style scoped>\n",
       "    .dataframe tbody tr th:only-of-type {\n",
       "        vertical-align: middle;\n",
       "    }\n",
       "\n",
       "    .dataframe tbody tr th {\n",
       "        vertical-align: top;\n",
       "    }\n",
       "\n",
       "    .dataframe thead th {\n",
       "        text-align: right;\n",
       "    }\n",
       "</style>\n",
       "<table border=\"1\" class=\"dataframe\">\n",
       "  <thead>\n",
       "    <tr style=\"text-align: right;\">\n",
       "      <th></th>\n",
       "      <th>subject</th>\n",
       "      <th>message</th>\n",
       "      <th>label</th>\n",
       "      <th>num_characters</th>\n",
       "      <th>num_words</th>\n",
       "      <th>num_sentences</th>\n",
       "    </tr>\n",
       "  </thead>\n",
       "  <tbody>\n",
       "    <tr>\n",
       "      <th>0</th>\n",
       "      <td>job posting - apple-iss research center</td>\n",
       "      <td>content - length : 3386 apple-iss research cen...</td>\n",
       "      <td>0</td>\n",
       "      <td>2856</td>\n",
       "      <td>584</td>\n",
       "      <td>22</td>\n",
       "    </tr>\n",
       "    <tr>\n",
       "      <th>2</th>\n",
       "      <td>query : letter frequencies for text identifica...</td>\n",
       "      <td>i am posting this inquiry for sergei atamas ( ...</td>\n",
       "      <td>0</td>\n",
       "      <td>1435</td>\n",
       "      <td>280</td>\n",
       "      <td>19</td>\n",
       "    </tr>\n",
       "    <tr>\n",
       "      <th>3</th>\n",
       "      <td>risk</td>\n",
       "      <td>a colleague and i are researching the differin...</td>\n",
       "      <td>0</td>\n",
       "      <td>324</td>\n",
       "      <td>60</td>\n",
       "      <td>4</td>\n",
       "    </tr>\n",
       "    <tr>\n",
       "      <th>4</th>\n",
       "      <td>request book information</td>\n",
       "      <td>earlier this morning i was on the phone with a...</td>\n",
       "      <td>0</td>\n",
       "      <td>1046</td>\n",
       "      <td>232</td>\n",
       "      <td>12</td>\n",
       "    </tr>\n",
       "    <tr>\n",
       "      <th>5</th>\n",
       "      <td>call for abstracts : optimality in syntactic t...</td>\n",
       "      <td>content - length : 4437 call for papers is the...</td>\n",
       "      <td>0</td>\n",
       "      <td>4492</td>\n",
       "      <td>861</td>\n",
       "      <td>58</td>\n",
       "    </tr>\n",
       "  </tbody>\n",
       "</table>\n",
       "</div>"
      ],
      "text/plain": [
       "                                             subject  \\\n",
       "0            job posting - apple-iss research center   \n",
       "2  query : letter frequencies for text identifica...   \n",
       "3                                               risk   \n",
       "4                           request book information   \n",
       "5  call for abstracts : optimality in syntactic t...   \n",
       "\n",
       "                                             message  label  num_characters  \\\n",
       "0  content - length : 3386 apple-iss research cen...      0            2856   \n",
       "2  i am posting this inquiry for sergei atamas ( ...      0            1435   \n",
       "3  a colleague and i are researching the differin...      0             324   \n",
       "4  earlier this morning i was on the phone with a...      0            1046   \n",
       "5  content - length : 4437 call for papers is the...      0            4492   \n",
       "\n",
       "   num_words  num_sentences  \n",
       "0        584             22  \n",
       "2        280             19  \n",
       "3         60              4  \n",
       "4        232             12  \n",
       "5        861             58  "
      ]
     },
     "execution_count": 90,
     "metadata": {},
     "output_type": "execute_result"
    }
   ],
   "source": [
    "df2.head()"
   ]
  },
  {
   "cell_type": "code",
   "execution_count": 91,
   "id": "1f90efde",
   "metadata": {},
   "outputs": [
    {
     "name": "stderr",
     "output_type": "stream",
     "text": [
      "[nltk_data] Downloading package stopwords to\n",
      "[nltk_data]     C:\\Users\\USER\\AppData\\Roaming\\nltk_data...\n",
      "[nltk_data]   Package stopwords is already up-to-date!\n"
     ]
    }
   ],
   "source": [
    "nltk.download('stopwords')\n",
    "from nltk.corpus import stopwords\n",
    "stopwords.words('english')\n",
    "from nltk.stem.porter import PorterStemmer\n",
    "ps = PorterStemmer()"
   ]
  },
  {
   "cell_type": "code",
   "execution_count": 92,
   "id": "6a601365",
   "metadata": {},
   "outputs": [
    {
     "data": {
      "text/plain": [
       "'!\"#$%&\\'()*+,-./:;<=>?@[\\\\]^_`{|}~'"
      ]
     },
     "execution_count": 92,
     "metadata": {},
     "output_type": "execute_result"
    }
   ],
   "source": [
    "import string\n",
    "string.punctuation"
   ]
  },
  {
   "cell_type": "code",
   "execution_count": 93,
   "id": "06b5f31a",
   "metadata": {},
   "outputs": [],
   "source": [
    "def transform_text(text):\n",
    "    text = text.lower()\n",
    "    text = nltk.word_tokenize(text)\n",
    "    \n",
    "    y = []\n",
    "    for i in text:\n",
    "        if i.isalnum():\n",
    "            y.append(i)\n",
    "    \n",
    "    text = y[:]\n",
    "    y.clear()\n",
    "    \n",
    "    for i in text:\n",
    "        if i not in stopwords.words('english') and i not in string.punctuation:\n",
    "            y.append(i)\n",
    "            \n",
    "    text = y[:]\n",
    "    y.clear()\n",
    "    \n",
    "    for i in text:\n",
    "        y.append(ps.stem(i))\n",
    "    \n",
    "    return \" \".join(y)"
   ]
  },
  {
   "cell_type": "code",
   "execution_count": 94,
   "id": "dfe8c43a",
   "metadata": {},
   "outputs": [],
   "source": [
    "df1['transformed_text'] = df1['email'].apply(transform_text)\n",
    "df2['transformed_text'] = df2['message'].apply(transform_text)"
   ]
  },
  {
   "cell_type": "code",
   "execution_count": 95,
   "id": "c0bb88cf",
   "metadata": {},
   "outputs": [],
   "source": [
    "spam_c = []\n",
    "for msg in df1[df1['label'] == 1]['transformed_text'].tolist():\n",
    "    for word in msg.split():\n",
    "        spam_c.append(word)"
   ]
  },
  {
   "cell_type": "code",
   "execution_count": 96,
   "id": "579ddec7",
   "metadata": {},
   "outputs": [],
   "source": [
    "ham_c = []\n",
    "for msg in df1[df1['label'] == 0]['transformed_text'].tolist():\n",
    "    for word in msg.split():\n",
    "        ham_c.append(word)"
   ]
  },
  {
   "cell_type": "code",
   "execution_count": 97,
   "id": "085f2fd4",
   "metadata": {},
   "outputs": [],
   "source": [
    "spam_ca = []\n",
    "for msg in df2[df2['label'] == 1]['transformed_text'].tolist():\n",
    "    for word in msg.split():\n",
    "        spam_ca.append(word)"
   ]
  },
  {
   "cell_type": "code",
   "execution_count": 98,
   "id": "c14e46e2",
   "metadata": {},
   "outputs": [],
   "source": [
    "ham_ca = []\n",
    "for msg in df2[df2['label'] == 0]['transformed_text'].tolist():\n",
    "    for word in msg.split():\n",
    "        ham_ca.append(word)"
   ]
  },
  {
   "cell_type": "code",
   "execution_count": 99,
   "id": "286f8ce7",
   "metadata": {},
   "outputs": [
    {
     "data": {
      "text/html": [
       "<div>\n",
       "<style scoped>\n",
       "    .dataframe tbody tr th:only-of-type {\n",
       "        vertical-align: middle;\n",
       "    }\n",
       "\n",
       "    .dataframe tbody tr th {\n",
       "        vertical-align: top;\n",
       "    }\n",
       "\n",
       "    .dataframe thead th {\n",
       "        text-align: right;\n",
       "    }\n",
       "</style>\n",
       "<table border=\"1\" class=\"dataframe\">\n",
       "  <thead>\n",
       "    <tr style=\"text-align: right;\">\n",
       "      <th></th>\n",
       "      <th>0</th>\n",
       "      <th>1</th>\n",
       "    </tr>\n",
       "  </thead>\n",
       "  <tbody>\n",
       "    <tr>\n",
       "      <th>0</th>\n",
       "      <td>number</td>\n",
       "      <td>7392</td>\n",
       "    </tr>\n",
       "    <tr>\n",
       "      <th>1</th>\n",
       "      <td>url</td>\n",
       "      <td>1171</td>\n",
       "    </tr>\n",
       "    <tr>\n",
       "      <th>2</th>\n",
       "      <td>mail</td>\n",
       "      <td>794</td>\n",
       "    </tr>\n",
       "    <tr>\n",
       "      <th>3</th>\n",
       "      <td>hyperlink</td>\n",
       "      <td>787</td>\n",
       "    </tr>\n",
       "    <tr>\n",
       "      <th>4</th>\n",
       "      <td>free</td>\n",
       "      <td>717</td>\n",
       "    </tr>\n",
       "    <tr>\n",
       "      <th>5</th>\n",
       "      <td>email</td>\n",
       "      <td>641</td>\n",
       "    </tr>\n",
       "    <tr>\n",
       "      <th>6</th>\n",
       "      <td>e</td>\n",
       "      <td>550</td>\n",
       "    </tr>\n",
       "    <tr>\n",
       "      <th>7</th>\n",
       "      <td>money</td>\n",
       "      <td>548</td>\n",
       "    </tr>\n",
       "    <tr>\n",
       "      <th>8</th>\n",
       "      <td>receiv</td>\n",
       "      <td>488</td>\n",
       "    </tr>\n",
       "    <tr>\n",
       "      <th>9</th>\n",
       "      <td>get</td>\n",
       "      <td>472</td>\n",
       "    </tr>\n",
       "    <tr>\n",
       "      <th>10</th>\n",
       "      <td>pleas</td>\n",
       "      <td>466</td>\n",
       "    </tr>\n",
       "    <tr>\n",
       "      <th>11</th>\n",
       "      <td>order</td>\n",
       "      <td>462</td>\n",
       "    </tr>\n",
       "    <tr>\n",
       "      <th>12</th>\n",
       "      <td>list</td>\n",
       "      <td>448</td>\n",
       "    </tr>\n",
       "    <tr>\n",
       "      <th>13</th>\n",
       "      <td>make</td>\n",
       "      <td>423</td>\n",
       "    </tr>\n",
       "    <tr>\n",
       "      <th>14</th>\n",
       "      <td>click</td>\n",
       "      <td>418</td>\n",
       "    </tr>\n",
       "    <tr>\n",
       "      <th>15</th>\n",
       "      <td>busi</td>\n",
       "      <td>414</td>\n",
       "    </tr>\n",
       "    <tr>\n",
       "      <th>16</th>\n",
       "      <td>name</td>\n",
       "      <td>410</td>\n",
       "    </tr>\n",
       "    <tr>\n",
       "      <th>17</th>\n",
       "      <td>address</td>\n",
       "      <td>406</td>\n",
       "    </tr>\n",
       "    <tr>\n",
       "      <th>18</th>\n",
       "      <td>time</td>\n",
       "      <td>397</td>\n",
       "    </tr>\n",
       "    <tr>\n",
       "      <th>19</th>\n",
       "      <td>one</td>\n",
       "      <td>386</td>\n",
       "    </tr>\n",
       "    <tr>\n",
       "      <th>20</th>\n",
       "      <td>inform</td>\n",
       "      <td>381</td>\n",
       "    </tr>\n",
       "    <tr>\n",
       "      <th>21</th>\n",
       "      <td>remov</td>\n",
       "      <td>373</td>\n",
       "    </tr>\n",
       "    <tr>\n",
       "      <th>22</th>\n",
       "      <td>peopl</td>\n",
       "      <td>373</td>\n",
       "    </tr>\n",
       "    <tr>\n",
       "      <th>23</th>\n",
       "      <td>report</td>\n",
       "      <td>372</td>\n",
       "    </tr>\n",
       "    <tr>\n",
       "      <th>24</th>\n",
       "      <td>send</td>\n",
       "      <td>367</td>\n",
       "    </tr>\n",
       "    <tr>\n",
       "      <th>25</th>\n",
       "      <td>us</td>\n",
       "      <td>336</td>\n",
       "    </tr>\n",
       "    <tr>\n",
       "      <th>26</th>\n",
       "      <td>program</td>\n",
       "      <td>303</td>\n",
       "    </tr>\n",
       "    <tr>\n",
       "      <th>27</th>\n",
       "      <td>day</td>\n",
       "      <td>300</td>\n",
       "    </tr>\n",
       "    <tr>\n",
       "      <th>28</th>\n",
       "      <td>new</td>\n",
       "      <td>296</td>\n",
       "    </tr>\n",
       "    <tr>\n",
       "      <th>29</th>\n",
       "      <td>offer</td>\n",
       "      <td>296</td>\n",
       "    </tr>\n",
       "  </tbody>\n",
       "</table>\n",
       "</div>"
      ],
      "text/plain": [
       "            0     1\n",
       "0      number  7392\n",
       "1         url  1171\n",
       "2        mail   794\n",
       "3   hyperlink   787\n",
       "4        free   717\n",
       "5       email   641\n",
       "6           e   550\n",
       "7       money   548\n",
       "8      receiv   488\n",
       "9         get   472\n",
       "10      pleas   466\n",
       "11      order   462\n",
       "12       list   448\n",
       "13       make   423\n",
       "14      click   418\n",
       "15       busi   414\n",
       "16       name   410\n",
       "17    address   406\n",
       "18       time   397\n",
       "19        one   386\n",
       "20     inform   381\n",
       "21      remov   373\n",
       "22      peopl   373\n",
       "23     report   372\n",
       "24       send   367\n",
       "25         us   336\n",
       "26    program   303\n",
       "27        day   300\n",
       "28        new   296\n",
       "29      offer   296"
      ]
     },
     "execution_count": 99,
     "metadata": {},
     "output_type": "execute_result"
    }
   ],
   "source": [
    "from collections import Counter\n",
    "pd.DataFrame(Counter(spam_c).most_common(30))"
   ]
  },
  {
   "cell_type": "code",
   "execution_count": 100,
   "id": "5687cd0e",
   "metadata": {},
   "outputs": [
    {
     "data": {
      "text/html": [
       "<div>\n",
       "<style scoped>\n",
       "    .dataframe tbody tr th:only-of-type {\n",
       "        vertical-align: middle;\n",
       "    }\n",
       "\n",
       "    .dataframe tbody tr th {\n",
       "        vertical-align: top;\n",
       "    }\n",
       "\n",
       "    .dataframe thead th {\n",
       "        text-align: right;\n",
       "    }\n",
       "</style>\n",
       "<table border=\"1\" class=\"dataframe\">\n",
       "  <thead>\n",
       "    <tr style=\"text-align: right;\">\n",
       "      <th></th>\n",
       "      <th>0</th>\n",
       "      <th>1</th>\n",
       "    </tr>\n",
       "  </thead>\n",
       "  <tbody>\n",
       "    <tr>\n",
       "      <th>0</th>\n",
       "      <td>number</td>\n",
       "      <td>26608</td>\n",
       "    </tr>\n",
       "    <tr>\n",
       "      <th>1</th>\n",
       "      <td>url</td>\n",
       "      <td>7524</td>\n",
       "    </tr>\n",
       "    <tr>\n",
       "      <th>2</th>\n",
       "      <td>use</td>\n",
       "      <td>2142</td>\n",
       "    </tr>\n",
       "    <tr>\n",
       "      <th>3</th>\n",
       "      <td>list</td>\n",
       "      <td>1959</td>\n",
       "    </tr>\n",
       "    <tr>\n",
       "      <th>4</th>\n",
       "      <td>get</td>\n",
       "      <td>1466</td>\n",
       "    </tr>\n",
       "    <tr>\n",
       "      <th>5</th>\n",
       "      <td>one</td>\n",
       "      <td>1363</td>\n",
       "    </tr>\n",
       "    <tr>\n",
       "      <th>6</th>\n",
       "      <td>mail</td>\n",
       "      <td>1359</td>\n",
       "    </tr>\n",
       "    <tr>\n",
       "      <th>7</th>\n",
       "      <td>like</td>\n",
       "      <td>1188</td>\n",
       "    </tr>\n",
       "    <tr>\n",
       "      <th>8</th>\n",
       "      <td>time</td>\n",
       "      <td>1183</td>\n",
       "    </tr>\n",
       "    <tr>\n",
       "      <th>9</th>\n",
       "      <td>messag</td>\n",
       "      <td>1109</td>\n",
       "    </tr>\n",
       "    <tr>\n",
       "      <th>10</th>\n",
       "      <td>would</td>\n",
       "      <td>1077</td>\n",
       "    </tr>\n",
       "    <tr>\n",
       "      <th>11</th>\n",
       "      <td>work</td>\n",
       "      <td>1004</td>\n",
       "    </tr>\n",
       "    <tr>\n",
       "      <th>12</th>\n",
       "      <td>rpm</td>\n",
       "      <td>976</td>\n",
       "    </tr>\n",
       "    <tr>\n",
       "      <th>13</th>\n",
       "      <td>peopl</td>\n",
       "      <td>958</td>\n",
       "    </tr>\n",
       "    <tr>\n",
       "      <th>14</th>\n",
       "      <td>wrote</td>\n",
       "      <td>921</td>\n",
       "    </tr>\n",
       "    <tr>\n",
       "      <th>15</th>\n",
       "      <td>new</td>\n",
       "      <td>904</td>\n",
       "    </tr>\n",
       "    <tr>\n",
       "      <th>16</th>\n",
       "      <td>user</td>\n",
       "      <td>893</td>\n",
       "    </tr>\n",
       "    <tr>\n",
       "      <th>17</th>\n",
       "      <td>date</td>\n",
       "      <td>885</td>\n",
       "    </tr>\n",
       "    <tr>\n",
       "      <th>18</th>\n",
       "      <td>make</td>\n",
       "      <td>807</td>\n",
       "    </tr>\n",
       "    <tr>\n",
       "      <th>19</th>\n",
       "      <td>think</td>\n",
       "      <td>788</td>\n",
       "    </tr>\n",
       "    <tr>\n",
       "      <th>20</th>\n",
       "      <td>file</td>\n",
       "      <td>783</td>\n",
       "    </tr>\n",
       "    <tr>\n",
       "      <th>21</th>\n",
       "      <td>said</td>\n",
       "      <td>760</td>\n",
       "    </tr>\n",
       "    <tr>\n",
       "      <th>22</th>\n",
       "      <td>spamassassin</td>\n",
       "      <td>751</td>\n",
       "    </tr>\n",
       "    <tr>\n",
       "      <th>23</th>\n",
       "      <td>world</td>\n",
       "      <td>715</td>\n",
       "    </tr>\n",
       "    <tr>\n",
       "      <th>24</th>\n",
       "      <td>also</td>\n",
       "      <td>711</td>\n",
       "    </tr>\n",
       "    <tr>\n",
       "      <th>25</th>\n",
       "      <td>way</td>\n",
       "      <td>697</td>\n",
       "    </tr>\n",
       "    <tr>\n",
       "      <th>26</th>\n",
       "      <td>group</td>\n",
       "      <td>691</td>\n",
       "    </tr>\n",
       "    <tr>\n",
       "      <th>27</th>\n",
       "      <td>spam</td>\n",
       "      <td>678</td>\n",
       "    </tr>\n",
       "    <tr>\n",
       "      <th>28</th>\n",
       "      <td>run</td>\n",
       "      <td>672</td>\n",
       "    </tr>\n",
       "    <tr>\n",
       "      <th>29</th>\n",
       "      <td>email</td>\n",
       "      <td>671</td>\n",
       "    </tr>\n",
       "  </tbody>\n",
       "</table>\n",
       "</div>"
      ],
      "text/plain": [
       "               0      1\n",
       "0         number  26608\n",
       "1            url   7524\n",
       "2            use   2142\n",
       "3           list   1959\n",
       "4            get   1466\n",
       "5            one   1363\n",
       "6           mail   1359\n",
       "7           like   1188\n",
       "8           time   1183\n",
       "9         messag   1109\n",
       "10         would   1077\n",
       "11          work   1004\n",
       "12           rpm    976\n",
       "13         peopl    958\n",
       "14         wrote    921\n",
       "15           new    904\n",
       "16          user    893\n",
       "17          date    885\n",
       "18          make    807\n",
       "19         think    788\n",
       "20          file    783\n",
       "21          said    760\n",
       "22  spamassassin    751\n",
       "23         world    715\n",
       "24          also    711\n",
       "25           way    697\n",
       "26         group    691\n",
       "27          spam    678\n",
       "28           run    672\n",
       "29         email    671"
      ]
     },
     "execution_count": 100,
     "metadata": {},
     "output_type": "execute_result"
    }
   ],
   "source": [
    "from collections import Counter\n",
    "pd.DataFrame(Counter(ham_c).most_common(30))"
   ]
  },
  {
   "cell_type": "code",
   "execution_count": 101,
   "id": "b7e78c89",
   "metadata": {},
   "outputs": [
    {
     "data": {
      "text/html": [
       "<div>\n",
       "<style scoped>\n",
       "    .dataframe tbody tr th:only-of-type {\n",
       "        vertical-align: middle;\n",
       "    }\n",
       "\n",
       "    .dataframe tbody tr th {\n",
       "        vertical-align: top;\n",
       "    }\n",
       "\n",
       "    .dataframe thead th {\n",
       "        text-align: right;\n",
       "    }\n",
       "</style>\n",
       "<table border=\"1\" class=\"dataframe\">\n",
       "  <thead>\n",
       "    <tr style=\"text-align: right;\">\n",
       "      <th></th>\n",
       "      <th>0</th>\n",
       "      <th>1</th>\n",
       "    </tr>\n",
       "  </thead>\n",
       "  <tbody>\n",
       "    <tr>\n",
       "      <th>0</th>\n",
       "      <td>20</td>\n",
       "      <td>1774</td>\n",
       "    </tr>\n",
       "    <tr>\n",
       "      <th>1</th>\n",
       "      <td>order</td>\n",
       "      <td>1593</td>\n",
       "    </tr>\n",
       "    <tr>\n",
       "      <th>2</th>\n",
       "      <td>report</td>\n",
       "      <td>1393</td>\n",
       "    </tr>\n",
       "    <tr>\n",
       "      <th>3</th>\n",
       "      <td>address</td>\n",
       "      <td>1323</td>\n",
       "    </tr>\n",
       "    <tr>\n",
       "      <th>4</th>\n",
       "      <td>mail</td>\n",
       "      <td>1284</td>\n",
       "    </tr>\n",
       "    <tr>\n",
       "      <th>5</th>\n",
       "      <td>email</td>\n",
       "      <td>1137</td>\n",
       "    </tr>\n",
       "    <tr>\n",
       "      <th>6</th>\n",
       "      <td>000</td>\n",
       "      <td>1120</td>\n",
       "    </tr>\n",
       "    <tr>\n",
       "      <th>7</th>\n",
       "      <td>program</td>\n",
       "      <td>1073</td>\n",
       "    </tr>\n",
       "    <tr>\n",
       "      <th>8</th>\n",
       "      <td>make</td>\n",
       "      <td>985</td>\n",
       "    </tr>\n",
       "    <tr>\n",
       "      <th>9</th>\n",
       "      <td>list</td>\n",
       "      <td>957</td>\n",
       "    </tr>\n",
       "    <tr>\n",
       "      <th>10</th>\n",
       "      <td>get</td>\n",
       "      <td>907</td>\n",
       "    </tr>\n",
       "    <tr>\n",
       "      <th>11</th>\n",
       "      <td>send</td>\n",
       "      <td>895</td>\n",
       "    </tr>\n",
       "    <tr>\n",
       "      <th>12</th>\n",
       "      <td>free</td>\n",
       "      <td>882</td>\n",
       "    </tr>\n",
       "    <tr>\n",
       "      <th>13</th>\n",
       "      <td>receiv</td>\n",
       "      <td>881</td>\n",
       "    </tr>\n",
       "    <tr>\n",
       "      <th>14</th>\n",
       "      <td>name</td>\n",
       "      <td>869</td>\n",
       "    </tr>\n",
       "    <tr>\n",
       "      <th>15</th>\n",
       "      <td>money</td>\n",
       "      <td>852</td>\n",
       "    </tr>\n",
       "    <tr>\n",
       "      <th>16</th>\n",
       "      <td>peopl</td>\n",
       "      <td>821</td>\n",
       "    </tr>\n",
       "    <tr>\n",
       "      <th>17</th>\n",
       "      <td>time</td>\n",
       "      <td>768</td>\n",
       "    </tr>\n",
       "    <tr>\n",
       "      <th>18</th>\n",
       "      <td>busi</td>\n",
       "      <td>737</td>\n",
       "    </tr>\n",
       "    <tr>\n",
       "      <th>19</th>\n",
       "      <td>00</td>\n",
       "      <td>737</td>\n",
       "    </tr>\n",
       "    <tr>\n",
       "      <th>20</th>\n",
       "      <td>3d</td>\n",
       "      <td>736</td>\n",
       "    </tr>\n",
       "    <tr>\n",
       "      <th>21</th>\n",
       "      <td>one</td>\n",
       "      <td>725</td>\n",
       "    </tr>\n",
       "    <tr>\n",
       "      <th>22</th>\n",
       "      <td>work</td>\n",
       "      <td>720</td>\n",
       "    </tr>\n",
       "    <tr>\n",
       "      <th>23</th>\n",
       "      <td>1</td>\n",
       "      <td>710</td>\n",
       "    </tr>\n",
       "    <tr>\n",
       "      <th>24</th>\n",
       "      <td>2</td>\n",
       "      <td>676</td>\n",
       "    </tr>\n",
       "    <tr>\n",
       "      <th>25</th>\n",
       "      <td>use</td>\n",
       "      <td>651</td>\n",
       "    </tr>\n",
       "    <tr>\n",
       "      <th>26</th>\n",
       "      <td>new</td>\n",
       "      <td>634</td>\n",
       "    </tr>\n",
       "    <tr>\n",
       "      <th>27</th>\n",
       "      <td>com</td>\n",
       "      <td>628</td>\n",
       "    </tr>\n",
       "    <tr>\n",
       "      <th>28</th>\n",
       "      <td>internet</td>\n",
       "      <td>624</td>\n",
       "    </tr>\n",
       "    <tr>\n",
       "      <th>29</th>\n",
       "      <td>inform</td>\n",
       "      <td>624</td>\n",
       "    </tr>\n",
       "  </tbody>\n",
       "</table>\n",
       "</div>"
      ],
      "text/plain": [
       "           0     1\n",
       "0         20  1774\n",
       "1      order  1593\n",
       "2     report  1393\n",
       "3    address  1323\n",
       "4       mail  1284\n",
       "5      email  1137\n",
       "6        000  1120\n",
       "7    program  1073\n",
       "8       make   985\n",
       "9       list   957\n",
       "10       get   907\n",
       "11      send   895\n",
       "12      free   882\n",
       "13    receiv   881\n",
       "14      name   869\n",
       "15     money   852\n",
       "16     peopl   821\n",
       "17      time   768\n",
       "18      busi   737\n",
       "19        00   737\n",
       "20        3d   736\n",
       "21       one   725\n",
       "22      work   720\n",
       "23         1   710\n",
       "24         2   676\n",
       "25       use   651\n",
       "26       new   634\n",
       "27       com   628\n",
       "28  internet   624\n",
       "29    inform   624"
      ]
     },
     "execution_count": 101,
     "metadata": {},
     "output_type": "execute_result"
    }
   ],
   "source": [
    "from collections import Counter\n",
    "pd.DataFrame(Counter(spam_ca).most_common(30))"
   ]
  },
  {
   "cell_type": "code",
   "execution_count": 102,
   "id": "c339d70a",
   "metadata": {},
   "outputs": [
    {
     "data": {
      "text/html": [
       "<div>\n",
       "<style scoped>\n",
       "    .dataframe tbody tr th:only-of-type {\n",
       "        vertical-align: middle;\n",
       "    }\n",
       "\n",
       "    .dataframe tbody tr th {\n",
       "        vertical-align: top;\n",
       "    }\n",
       "\n",
       "    .dataframe thead th {\n",
       "        text-align: right;\n",
       "    }\n",
       "</style>\n",
       "<table border=\"1\" class=\"dataframe\">\n",
       "  <thead>\n",
       "    <tr style=\"text-align: right;\">\n",
       "      <th></th>\n",
       "      <th>0</th>\n",
       "      <th>1</th>\n",
       "    </tr>\n",
       "  </thead>\n",
       "  <tbody>\n",
       "    <tr>\n",
       "      <th>0</th>\n",
       "      <td>languag</td>\n",
       "      <td>8251</td>\n",
       "    </tr>\n",
       "    <tr>\n",
       "      <th>1</th>\n",
       "      <td>univers</td>\n",
       "      <td>6548</td>\n",
       "    </tr>\n",
       "    <tr>\n",
       "      <th>2</th>\n",
       "      <td>linguist</td>\n",
       "      <td>5346</td>\n",
       "    </tr>\n",
       "    <tr>\n",
       "      <th>3</th>\n",
       "      <td>paper</td>\n",
       "      <td>3730</td>\n",
       "    </tr>\n",
       "    <tr>\n",
       "      <th>4</th>\n",
       "      <td>de</td>\n",
       "      <td>3195</td>\n",
       "    </tr>\n",
       "    <tr>\n",
       "      <th>5</th>\n",
       "      <td>inform</td>\n",
       "      <td>2797</td>\n",
       "    </tr>\n",
       "    <tr>\n",
       "      <th>6</th>\n",
       "      <td>confer</td>\n",
       "      <td>2673</td>\n",
       "    </tr>\n",
       "    <tr>\n",
       "      <th>7</th>\n",
       "      <td>1</td>\n",
       "      <td>2573</td>\n",
       "    </tr>\n",
       "    <tr>\n",
       "      <th>8</th>\n",
       "      <td>use</td>\n",
       "      <td>2437</td>\n",
       "    </tr>\n",
       "    <tr>\n",
       "      <th>9</th>\n",
       "      <td>00</td>\n",
       "      <td>2244</td>\n",
       "    </tr>\n",
       "    <tr>\n",
       "      <th>10</th>\n",
       "      <td>english</td>\n",
       "      <td>2217</td>\n",
       "    </tr>\n",
       "    <tr>\n",
       "      <th>11</th>\n",
       "      <td>one</td>\n",
       "      <td>2201</td>\n",
       "    </tr>\n",
       "    <tr>\n",
       "      <th>12</th>\n",
       "      <td>1998</td>\n",
       "      <td>2159</td>\n",
       "    </tr>\n",
       "    <tr>\n",
       "      <th>13</th>\n",
       "      <td>research</td>\n",
       "      <td>2124</td>\n",
       "    </tr>\n",
       "    <tr>\n",
       "      <th>14</th>\n",
       "      <td>e</td>\n",
       "      <td>2054</td>\n",
       "    </tr>\n",
       "    <tr>\n",
       "      <th>15</th>\n",
       "      <td>workshop</td>\n",
       "      <td>2048</td>\n",
       "    </tr>\n",
       "    <tr>\n",
       "      <th>16</th>\n",
       "      <td>2</td>\n",
       "      <td>1992</td>\n",
       "    </tr>\n",
       "    <tr>\n",
       "      <th>17</th>\n",
       "      <td>30</td>\n",
       "      <td>1943</td>\n",
       "    </tr>\n",
       "    <tr>\n",
       "      <th>18</th>\n",
       "      <td>edu</td>\n",
       "      <td>1890</td>\n",
       "    </tr>\n",
       "    <tr>\n",
       "      <th>19</th>\n",
       "      <td>includ</td>\n",
       "      <td>1879</td>\n",
       "    </tr>\n",
       "    <tr>\n",
       "      <th>20</th>\n",
       "      <td>address</td>\n",
       "      <td>1786</td>\n",
       "    </tr>\n",
       "    <tr>\n",
       "      <th>21</th>\n",
       "      <td>pleas</td>\n",
       "      <td>1734</td>\n",
       "    </tr>\n",
       "    <tr>\n",
       "      <th>22</th>\n",
       "      <td>abstract</td>\n",
       "      <td>1713</td>\n",
       "    </tr>\n",
       "    <tr>\n",
       "      <th>23</th>\n",
       "      <td>word</td>\n",
       "      <td>1698</td>\n",
       "    </tr>\n",
       "    <tr>\n",
       "      <th>24</th>\n",
       "      <td>may</td>\n",
       "      <td>1667</td>\n",
       "    </tr>\n",
       "    <tr>\n",
       "      <th>25</th>\n",
       "      <td>also</td>\n",
       "      <td>1634</td>\n",
       "    </tr>\n",
       "    <tr>\n",
       "      <th>26</th>\n",
       "      <td>3</td>\n",
       "      <td>1623</td>\n",
       "    </tr>\n",
       "    <tr>\n",
       "      <th>27</th>\n",
       "      <td>comput</td>\n",
       "      <td>1615</td>\n",
       "    </tr>\n",
       "    <tr>\n",
       "      <th>28</th>\n",
       "      <td>fax</td>\n",
       "      <td>1597</td>\n",
       "    </tr>\n",
       "    <tr>\n",
       "      <th>29</th>\n",
       "      <td>http</td>\n",
       "      <td>1586</td>\n",
       "    </tr>\n",
       "  </tbody>\n",
       "</table>\n",
       "</div>"
      ],
      "text/plain": [
       "           0     1\n",
       "0    languag  8251\n",
       "1    univers  6548\n",
       "2   linguist  5346\n",
       "3      paper  3730\n",
       "4         de  3195\n",
       "5     inform  2797\n",
       "6     confer  2673\n",
       "7          1  2573\n",
       "8        use  2437\n",
       "9         00  2244\n",
       "10   english  2217\n",
       "11       one  2201\n",
       "12      1998  2159\n",
       "13  research  2124\n",
       "14         e  2054\n",
       "15  workshop  2048\n",
       "16         2  1992\n",
       "17        30  1943\n",
       "18       edu  1890\n",
       "19    includ  1879\n",
       "20   address  1786\n",
       "21     pleas  1734\n",
       "22  abstract  1713\n",
       "23      word  1698\n",
       "24       may  1667\n",
       "25      also  1634\n",
       "26         3  1623\n",
       "27    comput  1615\n",
       "28       fax  1597\n",
       "29      http  1586"
      ]
     },
     "execution_count": 102,
     "metadata": {},
     "output_type": "execute_result"
    }
   ],
   "source": [
    "from collections import Counter\n",
    "pd.DataFrame(Counter(ham_ca).most_common(30))"
   ]
  },
  {
   "cell_type": "markdown",
   "id": "a61f377e",
   "metadata": {},
   "source": [
    "# Pie Charts of Datasets "
   ]
  },
  {
   "cell_type": "code",
   "execution_count": 103,
   "id": "f062219d",
   "metadata": {},
   "outputs": [
    {
     "data": {
      "text/plain": [
       "0    2500\n",
       "1     499\n",
       "Name: label, dtype: int64"
      ]
     },
     "execution_count": 103,
     "metadata": {},
     "output_type": "execute_result"
    }
   ],
   "source": [
    "X['label'].value_counts()"
   ]
  },
  {
   "cell_type": "code",
   "execution_count": 104,
   "id": "5d887979",
   "metadata": {},
   "outputs": [
    {
     "data": {
      "text/plain": [
       "([<matplotlib.patches.Wedge at 0x175e371a730>,\n",
       "  <matplotlib.patches.Wedge at 0x175e371ae20>],\n",
       " [Text(-0.9531076835670171, 0.5491682288019901, 'ham'),\n",
       "  Text(0.953107657858596, -0.54916827342018, 'spam')],\n",
       " [Text(-0.519876918309282, 0.29954630661926734, '83.36'),\n",
       "  Text(0.5198769042865069, -0.29954633095646177, '16.64')])"
      ]
     },
     "execution_count": 104,
     "metadata": {},
     "output_type": "execute_result"
    },
    {
     "data": {
      "image/png": "[encoded data removed]",
      "text/plain": [
       "<Figure size 432x288 with 1 Axes>"
      ]
     },
     "metadata": {},
     "output_type": "display_data"
    }
   ],
   "source": [
    "import matplotlib.pyplot as plt\n",
    "plt.pie(X['label'].value_counts(),labels = [\"ham\",\"spam\"],autopct = \"%0.2f\")"
   ]
  },
  {
   "cell_type": "code",
   "execution_count": 105,
   "id": "11564d73",
   "metadata": {},
   "outputs": [
    {
     "data": {
      "text/plain": [
       "0    2363\n",
       "1     468\n",
       "Name: label, dtype: int64"
      ]
     },
     "execution_count": 105,
     "metadata": {},
     "output_type": "execute_result"
    }
   ],
   "source": [
    "Y['label'].value_counts()"
   ]
  },
  {
   "cell_type": "code",
   "execution_count": 106,
   "id": "611ed03e",
   "metadata": {},
   "outputs": [
    {
     "data": {
      "text/plain": [
       "([<matplotlib.patches.Wedge at 0x175e3754be0>,\n",
       "  <matplotlib.patches.Wedge at 0x175e3760310>],\n",
       " [Text(-0.9549589972502923, 0.5459425918269396, 'ham'),\n",
       "  Text(0.9549590228077084, -0.545942547122082, 'spam')],\n",
       " [Text(-0.5208867257728866, 0.2977868682692397, '83.47'),\n",
       "  Text(0.5208867397132955, -0.297786843884772, '16.53')])"
      ]
     },
     "execution_count": 106,
     "metadata": {},
     "output_type": "execute_result"
    },
    {
     "data": {
      "image/png": "[encoded data removed]",
      "text/plain": [
       "<Figure size 432x288 with 1 Axes>"
      ]
     },
     "metadata": {},
     "output_type": "display_data"
    }
   ],
   "source": [
    "plt.pie(Y['label'].value_counts(),labels = [\"ham\",\"spam\"],autopct = \"%0.2f\")"
   ]
  },
  {
   "cell_type": "markdown",
   "id": "b5adf210",
   "metadata": {},
   "source": [
    "# EDA"
   ]
  },
  {
   "cell_type": "code",
   "execution_count": 107,
   "id": "18009f63",
   "metadata": {},
   "outputs": [
    {
     "data": {
      "text/html": [
       "<div>\n",
       "<style scoped>\n",
       "    .dataframe tbody tr th:only-of-type {\n",
       "        vertical-align: middle;\n",
       "    }\n",
       "\n",
       "    .dataframe tbody tr th {\n",
       "        vertical-align: top;\n",
       "    }\n",
       "\n",
       "    .dataframe thead th {\n",
       "        text-align: right;\n",
       "    }\n",
       "</style>\n",
       "<table border=\"1\" class=\"dataframe\">\n",
       "  <thead>\n",
       "    <tr style=\"text-align: right;\">\n",
       "      <th></th>\n",
       "      <th>num_characters</th>\n",
       "      <th>num_words</th>\n",
       "      <th>num_sentences</th>\n",
       "    </tr>\n",
       "  </thead>\n",
       "  <tbody>\n",
       "    <tr>\n",
       "      <th>count</th>\n",
       "      <td>2500.000000</td>\n",
       "      <td>2500.000000</td>\n",
       "      <td>2500.0</td>\n",
       "    </tr>\n",
       "    <tr>\n",
       "      <th>mean</th>\n",
       "      <td>1233.672000</td>\n",
       "      <td>215.855600</td>\n",
       "      <td>1.0</td>\n",
       "    </tr>\n",
       "    <tr>\n",
       "      <th>std</th>\n",
       "      <td>3101.999287</td>\n",
       "      <td>517.157638</td>\n",
       "      <td>0.0</td>\n",
       "    </tr>\n",
       "    <tr>\n",
       "      <th>min</th>\n",
       "      <td>5.000000</td>\n",
       "      <td>1.000000</td>\n",
       "      <td>1.0</td>\n",
       "    </tr>\n",
       "    <tr>\n",
       "      <th>25%</th>\n",
       "      <td>360.000000</td>\n",
       "      <td>63.000000</td>\n",
       "      <td>1.0</td>\n",
       "    </tr>\n",
       "    <tr>\n",
       "      <th>50%</th>\n",
       "      <td>719.000000</td>\n",
       "      <td>127.000000</td>\n",
       "      <td>1.0</td>\n",
       "    </tr>\n",
       "    <tr>\n",
       "      <th>75%</th>\n",
       "      <td>1280.250000</td>\n",
       "      <td>229.000000</td>\n",
       "      <td>1.0</td>\n",
       "    </tr>\n",
       "    <tr>\n",
       "      <th>max</th>\n",
       "      <td>82994.000000</td>\n",
       "      <td>13309.000000</td>\n",
       "      <td>1.0</td>\n",
       "    </tr>\n",
       "  </tbody>\n",
       "</table>\n",
       "</div>"
      ],
      "text/plain": [
       "       num_characters     num_words  num_sentences\n",
       "count     2500.000000   2500.000000         2500.0\n",
       "mean      1233.672000    215.855600            1.0\n",
       "std       3101.999287    517.157638            0.0\n",
       "min          5.000000      1.000000            1.0\n",
       "25%        360.000000     63.000000            1.0\n",
       "50%        719.000000    127.000000            1.0\n",
       "75%       1280.250000    229.000000            1.0\n",
       "max      82994.000000  13309.000000            1.0"
      ]
     },
     "execution_count": 107,
     "metadata": {},
     "output_type": "execute_result"
    }
   ],
   "source": [
    "df1[df1['label'] == 0][['num_characters','num_words','num_sentences']].describe()"
   ]
  },
  {
   "cell_type": "code",
   "execution_count": 108,
   "id": "84083aa3",
   "metadata": {},
   "outputs": [
    {
     "data": {
      "text/html": [
       "<div>\n",
       "<style scoped>\n",
       "    .dataframe tbody tr th:only-of-type {\n",
       "        vertical-align: middle;\n",
       "    }\n",
       "\n",
       "    .dataframe tbody tr th {\n",
       "        vertical-align: top;\n",
       "    }\n",
       "\n",
       "    .dataframe thead th {\n",
       "        text-align: right;\n",
       "    }\n",
       "</style>\n",
       "<table border=\"1\" class=\"dataframe\">\n",
       "  <thead>\n",
       "    <tr style=\"text-align: right;\">\n",
       "      <th></th>\n",
       "      <th>num_characters</th>\n",
       "      <th>num_words</th>\n",
       "      <th>num_sentences</th>\n",
       "    </tr>\n",
       "  </thead>\n",
       "  <tbody>\n",
       "    <tr>\n",
       "      <th>count</th>\n",
       "      <td>499.000000</td>\n",
       "      <td>499.000000</td>\n",
       "      <td>499.000000</td>\n",
       "    </tr>\n",
       "    <tr>\n",
       "      <th>mean</th>\n",
       "      <td>2313.669339</td>\n",
       "      <td>336.995992</td>\n",
       "      <td>0.995992</td>\n",
       "    </tr>\n",
       "    <tr>\n",
       "      <th>std</th>\n",
       "      <td>9817.766265</td>\n",
       "      <td>741.616480</td>\n",
       "      <td>0.063245</td>\n",
       "    </tr>\n",
       "    <tr>\n",
       "      <th>min</th>\n",
       "      <td>1.000000</td>\n",
       "      <td>0.000000</td>\n",
       "      <td>0.000000</td>\n",
       "    </tr>\n",
       "    <tr>\n",
       "      <th>25%</th>\n",
       "      <td>525.000000</td>\n",
       "      <td>90.000000</td>\n",
       "      <td>1.000000</td>\n",
       "    </tr>\n",
       "    <tr>\n",
       "      <th>50%</th>\n",
       "      <td>956.000000</td>\n",
       "      <td>162.000000</td>\n",
       "      <td>1.000000</td>\n",
       "    </tr>\n",
       "    <tr>\n",
       "      <th>75%</th>\n",
       "      <td>1941.000000</td>\n",
       "      <td>331.000000</td>\n",
       "      <td>1.000000</td>\n",
       "    </tr>\n",
       "    <tr>\n",
       "      <th>max</th>\n",
       "      <td>200408.000000</td>\n",
       "      <td>11602.000000</td>\n",
       "      <td>1.000000</td>\n",
       "    </tr>\n",
       "  </tbody>\n",
       "</table>\n",
       "</div>"
      ],
      "text/plain": [
       "       num_characters     num_words  num_sentences\n",
       "count      499.000000    499.000000     499.000000\n",
       "mean      2313.669339    336.995992       0.995992\n",
       "std       9817.766265    741.616480       0.063245\n",
       "min          1.000000      0.000000       0.000000\n",
       "25%        525.000000     90.000000       1.000000\n",
       "50%        956.000000    162.000000       1.000000\n",
       "75%       1941.000000    331.000000       1.000000\n",
       "max     200408.000000  11602.000000       1.000000"
      ]
     },
     "execution_count": 108,
     "metadata": {},
     "output_type": "execute_result"
    }
   ],
   "source": [
    "df1[df1['label'] == 1][['num_characters','num_words','num_sentences']].describe()"
   ]
  },
  {
   "cell_type": "code",
   "execution_count": 109,
   "id": "25b44518",
   "metadata": {},
   "outputs": [
    {
     "data": {
      "text/html": [
       "<div>\n",
       "<style scoped>\n",
       "    .dataframe tbody tr th:only-of-type {\n",
       "        vertical-align: middle;\n",
       "    }\n",
       "\n",
       "    .dataframe tbody tr th {\n",
       "        vertical-align: top;\n",
       "    }\n",
       "\n",
       "    .dataframe thead th {\n",
       "        text-align: right;\n",
       "    }\n",
       "</style>\n",
       "<table border=\"1\" class=\"dataframe\">\n",
       "  <thead>\n",
       "    <tr style=\"text-align: right;\">\n",
       "      <th></th>\n",
       "      <th>num_characters</th>\n",
       "      <th>num_words</th>\n",
       "      <th>num_sentences</th>\n",
       "    </tr>\n",
       "  </thead>\n",
       "  <tbody>\n",
       "    <tr>\n",
       "      <th>count</th>\n",
       "      <td>2363.000000</td>\n",
       "      <td>2363.000000</td>\n",
       "      <td>2363.000000</td>\n",
       "    </tr>\n",
       "    <tr>\n",
       "      <th>mean</th>\n",
       "      <td>3130.933559</td>\n",
       "      <td>630.559882</td>\n",
       "      <td>41.262802</td>\n",
       "    </tr>\n",
       "    <tr>\n",
       "      <th>std</th>\n",
       "      <td>3296.438063</td>\n",
       "      <td>685.165912</td>\n",
       "      <td>82.954977</td>\n",
       "    </tr>\n",
       "    <tr>\n",
       "      <th>min</th>\n",
       "      <td>17.000000</td>\n",
       "      <td>3.000000</td>\n",
       "      <td>1.000000</td>\n",
       "    </tr>\n",
       "    <tr>\n",
       "      <th>25%</th>\n",
       "      <td>1025.500000</td>\n",
       "      <td>204.000000</td>\n",
       "      <td>11.000000</td>\n",
       "    </tr>\n",
       "    <tr>\n",
       "      <th>50%</th>\n",
       "      <td>2060.000000</td>\n",
       "      <td>403.000000</td>\n",
       "      <td>20.000000</td>\n",
       "    </tr>\n",
       "    <tr>\n",
       "      <th>75%</th>\n",
       "      <td>3886.000000</td>\n",
       "      <td>784.000000</td>\n",
       "      <td>41.000000</td>\n",
       "    </tr>\n",
       "    <tr>\n",
       "      <th>max</th>\n",
       "      <td>28649.000000</td>\n",
       "      <td>6608.000000</td>\n",
       "      <td>1500.000000</td>\n",
       "    </tr>\n",
       "  </tbody>\n",
       "</table>\n",
       "</div>"
      ],
      "text/plain": [
       "       num_characters    num_words  num_sentences\n",
       "count     2363.000000  2363.000000    2363.000000\n",
       "mean      3130.933559   630.559882      41.262802\n",
       "std       3296.438063   685.165912      82.954977\n",
       "min         17.000000     3.000000       1.000000\n",
       "25%       1025.500000   204.000000      11.000000\n",
       "50%       2060.000000   403.000000      20.000000\n",
       "75%       3886.000000   784.000000      41.000000\n",
       "max      28649.000000  6608.000000    1500.000000"
      ]
     },
     "execution_count": 109,
     "metadata": {},
     "output_type": "execute_result"
    }
   ],
   "source": [
    "df2[df2['label'] == 0][['num_characters','num_words','num_sentences']].describe()"
   ]
  },
  {
   "cell_type": "code",
   "execution_count": 110,
   "id": "a1f84201",
   "metadata": {},
   "outputs": [
    {
     "data": {
      "text/html": [
       "<div>\n",
       "<style scoped>\n",
       "    .dataframe tbody tr th:only-of-type {\n",
       "        vertical-align: middle;\n",
       "    }\n",
       "\n",
       "    .dataframe tbody tr th {\n",
       "        vertical-align: top;\n",
       "    }\n",
       "\n",
       "    .dataframe thead th {\n",
       "        text-align: right;\n",
       "    }\n",
       "</style>\n",
       "<table border=\"1\" class=\"dataframe\">\n",
       "  <thead>\n",
       "    <tr style=\"text-align: right;\">\n",
       "      <th></th>\n",
       "      <th>num_characters</th>\n",
       "      <th>num_words</th>\n",
       "      <th>num_sentences</th>\n",
       "    </tr>\n",
       "  </thead>\n",
       "  <tbody>\n",
       "    <tr>\n",
       "      <th>count</th>\n",
       "      <td>468.000000</td>\n",
       "      <td>468.000000</td>\n",
       "      <td>468.000000</td>\n",
       "    </tr>\n",
       "    <tr>\n",
       "      <th>mean</th>\n",
       "      <td>3820.568376</td>\n",
       "      <td>920.474359</td>\n",
       "      <td>61.042735</td>\n",
       "    </tr>\n",
       "    <tr>\n",
       "      <th>std</th>\n",
       "      <td>5174.423061</td>\n",
       "      <td>1249.625313</td>\n",
       "      <td>85.467516</td>\n",
       "    </tr>\n",
       "    <tr>\n",
       "      <th>min</th>\n",
       "      <td>46.000000</td>\n",
       "      <td>13.000000</td>\n",
       "      <td>1.000000</td>\n",
       "    </tr>\n",
       "    <tr>\n",
       "      <th>25%</th>\n",
       "      <td>624.750000</td>\n",
       "      <td>136.750000</td>\n",
       "      <td>12.000000</td>\n",
       "    </tr>\n",
       "    <tr>\n",
       "      <th>50%</th>\n",
       "      <td>1728.500000</td>\n",
       "      <td>408.500000</td>\n",
       "      <td>25.000000</td>\n",
       "    </tr>\n",
       "    <tr>\n",
       "      <th>75%</th>\n",
       "      <td>5150.000000</td>\n",
       "      <td>1217.750000</td>\n",
       "      <td>75.000000</td>\n",
       "    </tr>\n",
       "    <tr>\n",
       "      <th>max</th>\n",
       "      <td>28571.000000</td>\n",
       "      <td>6586.000000</td>\n",
       "      <td>483.000000</td>\n",
       "    </tr>\n",
       "  </tbody>\n",
       "</table>\n",
       "</div>"
      ],
      "text/plain": [
       "       num_characters    num_words  num_sentences\n",
       "count      468.000000   468.000000     468.000000\n",
       "mean      3820.568376   920.474359      61.042735\n",
       "std       5174.423061  1249.625313      85.467516\n",
       "min         46.000000    13.000000       1.000000\n",
       "25%        624.750000   136.750000      12.000000\n",
       "50%       1728.500000   408.500000      25.000000\n",
       "75%       5150.000000  1217.750000      75.000000\n",
       "max      28571.000000  6586.000000     483.000000"
      ]
     },
     "execution_count": 110,
     "metadata": {},
     "output_type": "execute_result"
    }
   ],
   "source": [
    "df2[df2['label'] == 1][['num_characters','num_words','num_sentences']].describe()"
   ]
  },
  {
   "cell_type": "code",
   "execution_count": 111,
   "id": "b5d6db9e",
   "metadata": {},
   "outputs": [],
   "source": [
    "import seaborn as sns"
   ]
  },
  {
   "cell_type": "code",
   "execution_count": 112,
   "id": "024e6441",
   "metadata": {},
   "outputs": [
    {
     "name": "stderr",
     "output_type": "stream",
     "text": [
      "C:\\Users\\USER\\anaconda3\\lib\\site-packages\\seaborn\\distributions.py:306: UserWarning: Dataset has 0 variance; skipping density estimate.\n",
      "  warnings.warn(msg, UserWarning)\n"
     ]
    },
    {
     "data": {
      "text/plain": [
       "<seaborn.axisgrid.PairGrid at 0x175e376eb20>"
      ]
     },
     "execution_count": 112,
     "metadata": {},
     "output_type": "execute_result"
    },
    {
     "data": {
      "image/png": "[encoded data removed]",
      "text/plain": [
       "<Figure size 582.375x540 with 12 Axes>"
      ]
     },
     "metadata": {
      "needs_background": "light"
     },
     "output_type": "display_data"
    }
   ],
   "source": [
    "sns.pairplot(df1,hue='label')"
   ]
  },
  {
   "cell_type": "code",
   "execution_count": 113,
   "id": "64eb41e1",
   "metadata": {},
   "outputs": [
    {
     "data": {
      "text/plain": [
       "<AxesSubplot:>"
      ]
     },
     "execution_count": 113,
     "metadata": {},
     "output_type": "execute_result"
    },
    {
     "data": {
      "image/png": "[encoded data removed]",
      "text/plain": [
       "<Figure size 432x288 with 2 Axes>"
      ]
     },
     "metadata": {
      "needs_background": "light"
     },
     "output_type": "display_data"
    }
   ],
   "source": [
    "sns.heatmap(df1.corr(),annot=True)"
   ]
  },
  {
   "cell_type": "code",
   "execution_count": 114,
   "id": "e0682f66",
   "metadata": {},
   "outputs": [
    {
     "data": {
      "text/plain": [
       "<seaborn.axisgrid.PairGrid at 0x175e89675b0>"
      ]
     },
     "execution_count": 114,
     "metadata": {},
     "output_type": "execute_result"
    },
    {
     "data": {
      "image/png": "[encoded data removed]",
      "text/plain": [
       "<Figure size 582.375x540 with 12 Axes>"
      ]
     },
     "metadata": {
      "needs_background": "light"
     },
     "output_type": "display_data"
    }
   ],
   "source": [
    "sns.pairplot(df2,hue='label')"
   ]
  },
  {
   "cell_type": "code",
   "execution_count": 115,
   "id": "735ccc25",
   "metadata": {},
   "outputs": [
    {
     "data": {
      "text/plain": [
       "<AxesSubplot:>"
      ]
     },
     "execution_count": 115,
     "metadata": {},
     "output_type": "execute_result"
    },
    {
     "data": {
      "image/png": "[encoded data removed]",
      "text/plain": [
       "<Figure size 432x288 with 2 Axes>"
      ]
     },
     "metadata": {
      "needs_background": "light"
     },
     "output_type": "display_data"
    }
   ],
   "source": [
    "sns.heatmap(df2.corr(),annot=True)"
   ]
  },
  {
   "cell_type": "markdown",
   "id": "491ca59a",
   "metadata": {},
   "source": [
    "# Model Classification"
   ]
  },
  {
   "cell_type": "code",
   "execution_count": 116,
   "id": "19604ae6",
   "metadata": {},
   "outputs": [],
   "source": [
    "from sklearn.svm import SVC\n",
    "from sklearn.tree import DecisionTreeClassifier\n",
    "from sklearn.ensemble import RandomForestClassifier\n",
    "from sklearn.naive_bayes import MultinomialNB\n",
    "\n",
    "SVM_model = SVC()\n",
    "DT_model = DecisionTreeClassifier()\n",
    "RF_model = RandomForestClassifier()\n",
    "MNB_model = MultinomialNB()\n"
   ]
  },
  {
   "cell_type": "code",
   "execution_count": 117,
   "id": "3a5861c2",
   "metadata": {},
   "outputs": [],
   "source": [
    "from sklearn.model_selection import KFold\n",
    "folds = KFold(n_splits = 4,shuffle = True)"
   ]
  },
  {
   "cell_type": "code",
   "execution_count": 118,
   "id": "5f3ace57",
   "metadata": {},
   "outputs": [],
   "source": [
    "from sklearn.feature_extraction.text import CountVectorizer\n",
    "v = CountVectorizer()"
   ]
  },
  {
   "cell_type": "code",
   "execution_count": 119,
   "id": "465490bc",
   "metadata": {},
   "outputs": [],
   "source": [
    "x = X.to_numpy()\n",
    "y = Y.to_numpy()"
   ]
  },
  {
   "cell_type": "markdown",
   "id": "2f3e7d6e",
   "metadata": {},
   "source": [
    "# Functions for Accuracy,Precision,recall"
   ]
  },
  {
   "cell_type": "code",
   "execution_count": 120,
   "id": "e247d0d2",
   "metadata": {},
   "outputs": [],
   "source": [
    "from sklearn.metrics import accuracy_score,confusion_matrix,precision_score,recall_score\n",
    "def acc_score(model,x_train,y_train,x_test,y_test):\n",
    "    # training our model\n",
    "    model.fit(x_train,y_train)\n",
    "    y_predict = model.predict(x_test)\n",
    "    # returning the scores\n",
    "    return accuracy_score(y_predict,y_test)"
   ]
  },
  {
   "cell_type": "code",
   "execution_count": 121,
   "id": "55d6c616",
   "metadata": {},
   "outputs": [],
   "source": [
    "def pre_score(model,x_train,y_train,x_test,y_test):\n",
    "    # training our model\n",
    "    model.fit(x_train,y_train)\n",
    "    y_predict = model.predict(x_test)\n",
    "    # returning the scores\n",
    "    return precision_score(y_predict,y_test)"
   ]
  },
  {
   "cell_type": "code",
   "execution_count": 122,
   "id": "c59c574e",
   "metadata": {},
   "outputs": [],
   "source": [
    "def rec_score(model,x_train,y_train,x_test,y_test):\n",
    "    # training our model\n",
    "    model.fit(x_train,y_train)\n",
    "    y_predict = model.predict(x_test)\n",
    "    # returning the scores\n",
    "    return recall_score(y_predict,y_test)"
   ]
  },
  {
   "cell_type": "code",
   "execution_count": 123,
   "id": "1469ee8b",
   "metadata": {},
   "outputs": [
    {
     "name": "stdout",
     "output_type": "stream",
     "text": [
      "2999 2831\n"
     ]
    }
   ],
   "source": [
    "SVM_acc_score = []\n",
    "DT_acc_score = []\n",
    "RF_acc_score = []\n",
    "MNB_acc_score = []\n",
    "SVM_pre_score = []\n",
    "DT_pre_score = []\n",
    "RF_pre_score = []\n",
    "MNB_pre_score = []\n",
    "SVM_rec_score = []\n",
    "DT_rec_score = []\n",
    "RF_rec_score = []\n",
    "MNB_rec_score = []\n",
    "print(len(x),len(y))"
   ]
  },
  {
   "cell_type": "markdown",
   "id": "c3eefad6",
   "metadata": {},
   "source": [
    "# K-Fold Cross Validation,CountVectorizer"
   ]
  },
  {
   "cell_type": "code",
   "execution_count": 124,
   "id": "d190a967",
   "metadata": {},
   "outputs": [],
   "source": [
    "def KFcrossvalidation(SVM_acc_score,DT_acc_score,RF_acc_score,MNB_acc_score,SVM_pre_score,DT_pre_score,RF_pre_score,MNB_pre_score,SVM_rec_score,DT_rec_score,RF_rec_score,MNB_rec_score,temp):\n",
    "    for input_index,test_index in folds.split(y):\n",
    "        train_split,test_split = temp[input_index],temp[test_index]\n",
    "        train_set = pd.DataFrame(train_split,columns = [\"message\",\"label\"])\n",
    "        test_set = pd.DataFrame(test_split,columns = [\"message\",\"label\"])\n",
    "        x_train = v.fit_transform(train_set[\"message\"].values.ravel())\n",
    "        y_train = train_set[\"label\"].astype(\"int\")\n",
    "        x_test = v.transform(test_set[\"message\"])\n",
    "        y_test = test_set[\"label\"].astype(\"int\")\n",
    "        SVM_acc_score.append(acc_score(SVM_model,x_train,y_train,x_test,y_test))\n",
    "        DT_acc_score.append(acc_score(DT_model,x_train,y_train,x_test,y_test))\n",
    "        RF_acc_score.append(acc_score(RF_model,x_train,y_train,x_test,y_test))\n",
    "        MNB_acc_score.append(acc_score(MNB_model,x_train,y_train,x_test,y_test))\n",
    "        \n",
    "        SVM_pre_score.append(pre_score(SVM_model,x_train,y_train,x_test,y_test))\n",
    "        DT_pre_score.append(pre_score(DT_model,x_train,y_train,x_test,y_test))\n",
    "        RF_pre_score.append(pre_score(RF_model,x_train,y_train,x_test,y_test))\n",
    "        MNB_pre_score.append(pre_score(MNB_model,x_train,y_train,x_test,y_test))\n",
    "        \n",
    "        SVM_rec_score.append(rec_score(SVM_model,x_train,y_train,x_test,y_test))\n",
    "        DT_rec_score.append(rec_score(DT_model,x_train,y_train,x_test,y_test))\n",
    "        RF_rec_score.append(rec_score(RF_model,x_train,y_train,x_test,y_test))\n",
    "        MNB_rec_score.append(rec_score(MNB_model,x_train,y_train,x_test,y_test))"
   ]
  },
  {
   "cell_type": "code",
   "execution_count": 125,
   "id": "a8a10c59",
   "metadata": {},
   "outputs": [],
   "source": [
    "KFcrossvalidation(SVM_acc_score,DT_acc_score,RF_acc_score,MNB_acc_score,SVM_pre_score,DT_pre_score,RF_pre_score,MNB_pre_score,SVM_rec_score,DT_rec_score,RF_rec_score,MNB_rec_score,x)\n",
    "KFcrossvalidation(SVM_acc_score,DT_acc_score,RF_acc_score,MNB_acc_score,SVM_pre_score,DT_pre_score,RF_pre_score,MNB_pre_score,SVM_rec_score,DT_rec_score,RF_rec_score,MNB_rec_score,y)"
   ]
  },
  {
   "cell_type": "code",
   "execution_count": 126,
   "id": "ad0dc07c",
   "metadata": {},
   "outputs": [
    {
     "name": "stdout",
     "output_type": "stream",
     "text": [
      "[0.9350282485875706, 0.9392655367231638, 0.9279661016949152, 0.9264497878359265, 0.923728813559322, 0.9392655367231638, 0.9350282485875706, 0.9561527581329562] [0.9689265536723164, 0.96045197740113, 0.961864406779661, 0.9646393210749646, 0.9491525423728814, 0.9646892655367232, 0.9576271186440678, 0.9717114568599717] [0.9675141242937854, 0.981638418079096, 0.9774011299435028, 0.9731258840169731, 0.96045197740113, 0.9731638418079096, 0.9703389830508474, 0.9759547383309759] [0.9858757062146892, 0.9872881355932204, 0.9901129943502824, 0.9872701555869873, 0.9901129943502824, 0.9929378531073446, 0.9901129943502824, 0.9900990099009901]\n"
     ]
    }
   ],
   "source": [
    "print(SVM_acc_score,DT_acc_score,RF_acc_score,MNB_acc_score)"
   ]
  },
  {
   "cell_type": "code",
   "execution_count": 127,
   "id": "933b363c",
   "metadata": {},
   "outputs": [
    {
     "name": "stdout",
     "output_type": "stream",
     "text": [
      "[0.43209876543209874, 0.39436619718309857, 0.43333333333333335, 0.4157303370786517, 0.5583333333333333, 0.635593220338983, 0.648, 0.7047619047619048] [0.8641975308641975, 0.8732394366197183, 0.8, 0.8539325842696629, 0.8416666666666667, 0.8898305084745762, 0.904, 0.9047619047619048] [0.7160493827160493, 0.8873239436619719, 0.8444444444444444, 0.8314606741573034, 0.7916666666666666, 0.8135593220338984, 0.856, 0.8666666666666667] [0.8765432098765432, 0.8873239436619719, 0.9555555555555556, 0.898876404494382, 0.975, 0.9915254237288136, 0.984, 0.9904761904761905]\n"
     ]
    }
   ],
   "source": [
    "print(SVM_pre_score,DT_pre_score,RF_pre_score,MNB_pre_score)"
   ]
  },
  {
   "cell_type": "code",
   "execution_count": 128,
   "id": "19711837",
   "metadata": {},
   "outputs": [
    {
     "name": "stdout",
     "output_type": "stream",
     "text": [
      "[1.0, 1.0, 1.0, 1.0, 0.9852941176470589, 1.0, 0.9759036144578314, 1.0] [0.8641975308641975, 0.7560975609756098, 0.8181818181818182, 0.8409090909090909, 0.8571428571428571, 0.905982905982906, 0.905982905982906, 0.8818181818181818] [1.0, 1.0, 1.0, 0.9864864864864865, 1.0, 1.0, 0.9904761904761905, 1.0] [1.0, 0.984375, 0.9662921348314607, 1.0, 0.9669421487603306, 0.9669421487603306, 0.9609375, 0.9454545454545454]\n"
     ]
    }
   ],
   "source": [
    "print(SVM_rec_score,DT_rec_score,RF_rec_score,MNB_rec_score)"
   ]
  },
  {
   "cell_type": "code",
   "execution_count": 129,
   "id": "240dcc2a",
   "metadata": {},
   "outputs": [],
   "source": [
    "def calculate_average(classifier_scores):\n",
    "    avg = 0\n",
    "    for i in classifier_scores:\n",
    "        avg += i\n",
    "    return (avg/len(classifier_scores))"
   ]
  },
  {
   "cell_type": "markdown",
   "id": "aff49bfb",
   "metadata": {},
   "source": [
    "# F1 score "
   ]
  },
  {
   "cell_type": "code",
   "execution_count": 130,
   "id": "830bb082",
   "metadata": {},
   "outputs": [],
   "source": [
    "def calculate_f1score(precision,recall):\n",
    "    return 2*((precision*recall)/(precision+recall))"
   ]
  },
  {
   "cell_type": "code",
   "execution_count": 131,
   "id": "19b04340",
   "metadata": {},
   "outputs": [],
   "source": [
    "SVM_acc_average = 0\n",
    "DT_acc_average = 0\n",
    "RF_acc_average = 0\n",
    "MNB_acc_average = 0\n",
    "SVM_acc_average = calculate_average(SVM_acc_score)\n",
    "DT_acc_average = calculate_average(DT_acc_score)\n",
    "RF_acc_average = calculate_average(RF_acc_score)\n",
    "MNB_acc_average = calculate_average(MNB_acc_score)"
   ]
  },
  {
   "cell_type": "code",
   "execution_count": 132,
   "id": "631afa53",
   "metadata": {},
   "outputs": [
    {
     "name": "stdout",
     "output_type": "stream",
     "text": [
      "0.9353606289805736 0.9623828302927145 0.9724486371155275 0.9892262304317597\n"
     ]
    }
   ],
   "source": [
    "print(SVM_acc_average,DT_acc_average,RF_acc_average,MNB_acc_average)"
   ]
  },
  {
   "cell_type": "code",
   "execution_count": 133,
   "id": "feac0835",
   "metadata": {},
   "outputs": [],
   "source": [
    "SVM_pre_average = 0\n",
    "DT_pre_average = 0\n",
    "RF_pre_average = 0\n",
    "MNB_pre_average = 0\n",
    "SVM_pre_average = calculate_average(SVM_pre_score)\n",
    "DT_pre_average = calculate_average(DT_pre_score)\n",
    "RF_pre_average = calculate_average(RF_pre_score)\n",
    "MNB_pre_average = calculate_average(MNB_pre_score)"
   ]
  },
  {
   "cell_type": "code",
   "execution_count": 134,
   "id": "a3cbaad9",
   "metadata": {},
   "outputs": [
    {
     "name": "stdout",
     "output_type": "stream",
     "text": [
      "0.5277771364326754 0.8664535789570907 0.8258963875433751 0.944912590974182\n"
     ]
    }
   ],
   "source": [
    "print(SVM_pre_average,DT_pre_average,RF_pre_average,MNB_pre_average)"
   ]
  },
  {
   "cell_type": "code",
   "execution_count": 135,
   "id": "60d4cfa7",
   "metadata": {},
   "outputs": [],
   "source": [
    "SVM_rec_average = 0\n",
    "DT_rec_average = 0\n",
    "RF_rec_average = 0\n",
    "MNB_rec_average = 0\n",
    "SVM_rec_average = calculate_average(SVM_rec_score)\n",
    "DT_rec_average = calculate_average(DT_rec_score)\n",
    "RF_rec_average = calculate_average(RF_rec_score)\n",
    "MNB_rec_average = calculate_average(MNB_rec_score)"
   ]
  },
  {
   "cell_type": "code",
   "execution_count": 136,
   "id": "5151a4a3",
   "metadata": {},
   "outputs": [
    {
     "name": "stdout",
     "output_type": "stream",
     "text": [
      "0.9951497165131112 0.853789106482196 0.9971203346203346 0.9738679347258334\n"
     ]
    }
   ],
   "source": [
    "print(SVM_rec_average,DT_rec_average,RF_rec_average,MNB_rec_average)"
   ]
  },
  {
   "cell_type": "code",
   "execution_count": 137,
   "id": "629a8792",
   "metadata": {},
   "outputs": [],
   "source": [
    "SVM_f1score = 0\n",
    "DT_f1score = 0\n",
    "RF_f1score = 0\n",
    "MNB_f1score = 0\n",
    "SVM_f1score_average = calculate_f1score(SVM_pre_average,SVM_rec_average)\n",
    "DT_f1score_average = calculate_f1score(DT_pre_average,DT_rec_average)\n",
    "RF_f1score_average = calculate_f1score(RF_pre_average,RF_rec_average)\n",
    "MNB_f1score_average = calculate_f1score(MNB_pre_average,RF_rec_average)"
   ]
  },
  {
   "cell_type": "code",
   "execution_count": 138,
   "id": "c98c2df3",
   "metadata": {},
   "outputs": [
    {
     "name": "stdout",
     "output_type": "stream",
     "text": [
      "0.6897472018267385 0.860074724627782 0.9034673925882096 0.970314711436429\n"
     ]
    }
   ],
   "source": [
    "print(SVM_f1score_average,DT_f1score_average,RF_f1score_average,MNB_f1score_average)"
   ]
  },
  {
   "cell_type": "code",
   "execution_count": 139,
   "id": "e92f5953",
   "metadata": {},
   "outputs": [
    {
     "data": {
      "text/plain": [
       "MultinomialNB()"
      ]
     },
     "execution_count": 139,
     "metadata": {},
     "output_type": "execute_result"
    }
   ],
   "source": [
    "from sklearn.model_selection import train_test_split\n",
    "vk = CountVectorizer()\n",
    "model = MultinomialNB()\n",
    "df3 = pd.read_csv(\"SpamAssassin.csv\")\n",
    "X_con = df3[\"email\"]  \n",
    "Y_con = df3[\"label\"] \n",
    "X_train, X_test, y_train, y_test = train_test_split(X_con,Y_con, test_size=0.4, random_state = 4)\n",
    "x_train = vk.fit_transform(X_train.values.ravel().astype('U'))\n",
    "Y_train = y_train.astype(\"int\")\n",
    "x_test =  vk.transform(X_test)\n",
    "model.fit(x_train,Y_train)"
   ]
  },
  {
   "cell_type": "markdown",
   "id": "a82f049f",
   "metadata": {},
   "source": [
    "# Confusion Matrix"
   ]
  },
  {
   "cell_type": "code",
   "execution_count": 140,
   "id": "f6732708",
   "metadata": {},
   "outputs": [
    {
     "data": {
      "text/plain": [
       "<sklearn.metrics._plot.confusion_matrix.ConfusionMatrixDisplay at 0x175e78d0100>"
      ]
     },
     "execution_count": 140,
     "metadata": {},
     "output_type": "execute_result"
    },
    {
     "data": {
      "image/png": "[encoded data removed]",
      "text/plain": [
       "<Figure size 432x288 with 2 Axes>"
      ]
     },
     "metadata": {
      "needs_background": "light"
     },
     "output_type": "display_data"
    }
   ],
   "source": [
    "from sklearn.metrics import plot_confusion_matrix\n",
    "plot_confusion_matrix(model,x_test,y_test)"
   ]
  },
  {
   "cell_type": "markdown",
   "id": "60867338",
   "metadata": {},
   "source": [
    "# Comparision of all the classifiers based on various measures"
   ]
  },
  {
   "cell_type": "code",
   "execution_count": 141,
   "id": "4784205c",
   "metadata": {},
   "outputs": [],
   "source": [
    "data = [['SVM',SVM_pre_average,SVM_rec_average,SVM_f1score_average,SVM_acc_average],['DT',DT_pre_average,DT_rec_average,DT_f1score_average,DT_acc_average],['RF',RF_pre_average,RF_rec_average,RF_f1score_average,RF_acc_average],['MNB',MNB_pre_average,MNB_rec_average,MNB_f1score_average,MNB_acc_average]]\n",
    "table = pd.DataFrame(data, columns = ['Classifier_name', 'Precision', \"Recall\", \"F1Score\", \"Accuracy\"]) "
   ]
  },
  {
   "cell_type": "code",
   "execution_count": 142,
   "id": "2230daff",
   "metadata": {},
   "outputs": [
    {
     "data": {
      "text/html": [
       "<div>\n",
       "<style scoped>\n",
       "    .dataframe tbody tr th:only-of-type {\n",
       "        vertical-align: middle;\n",
       "    }\n",
       "\n",
       "    .dataframe tbody tr th {\n",
       "        vertical-align: top;\n",
       "    }\n",
       "\n",
       "    .dataframe thead th {\n",
       "        text-align: right;\n",
       "    }\n",
       "</style>\n",
       "<table border=\"1\" class=\"dataframe\">\n",
       "  <thead>\n",
       "    <tr style=\"text-align: right;\">\n",
       "      <th></th>\n",
       "      <th>Classifier_name</th>\n",
       "      <th>Precision</th>\n",
       "      <th>Recall</th>\n",
       "      <th>F1Score</th>\n",
       "      <th>Accuracy</th>\n",
       "    </tr>\n",
       "  </thead>\n",
       "  <tbody>\n",
       "    <tr>\n",
       "      <th>0</th>\n",
       "      <td>SVM</td>\n",
       "      <td>0.527777</td>\n",
       "      <td>0.995150</td>\n",
       "      <td>0.689747</td>\n",
       "      <td>0.935361</td>\n",
       "    </tr>\n",
       "    <tr>\n",
       "      <th>1</th>\n",
       "      <td>DT</td>\n",
       "      <td>0.866454</td>\n",
       "      <td>0.853789</td>\n",
       "      <td>0.860075</td>\n",
       "      <td>0.962383</td>\n",
       "    </tr>\n",
       "    <tr>\n",
       "      <th>2</th>\n",
       "      <td>RF</td>\n",
       "      <td>0.825896</td>\n",
       "      <td>0.997120</td>\n",
       "      <td>0.903467</td>\n",
       "      <td>0.972449</td>\n",
       "    </tr>\n",
       "    <tr>\n",
       "      <th>3</th>\n",
       "      <td>MNB</td>\n",
       "      <td>0.944913</td>\n",
       "      <td>0.973868</td>\n",
       "      <td>0.970315</td>\n",
       "      <td>0.989226</td>\n",
       "    </tr>\n",
       "  </tbody>\n",
       "</table>\n",
       "</div>"
      ],
      "text/plain": [
       "  Classifier_name  Precision    Recall   F1Score  Accuracy\n",
       "0             SVM   0.527777  0.995150  0.689747  0.935361\n",
       "1              DT   0.866454  0.853789  0.860075  0.962383\n",
       "2              RF   0.825896  0.997120  0.903467  0.972449\n",
       "3             MNB   0.944913  0.973868  0.970315  0.989226"
      ]
     },
     "execution_count": 142,
     "metadata": {},
     "output_type": "execute_result"
    }
   ],
   "source": [
    "table.head()"
   ]
  },
  {
   "cell_type": "code",
   "execution_count": 143,
   "id": "688fa430",
   "metadata": {},
   "outputs": [
    {
     "data": {
      "text/plain": [
       "<AxesSubplot:>"
      ]
     },
     "execution_count": 143,
     "metadata": {},
     "output_type": "execute_result"
    },
    {
     "data": {
      "image/png": "[encoded data removed]",
      "text/plain": [
       "<Figure size 720x504 with 1 Axes>"
      ]
     },
     "metadata": {
      "needs_background": "light"
     },
     "output_type": "display_data"
    }
   ],
   "source": [
    "table.plot.bar(figsize = (10,7))"
   ]
  },
  {
   "cell_type": "markdown",
   "id": "3f778fd5",
   "metadata": {},
   "source": [
    "# Pickling the model parameters for making of GUI"
   ]
  },
  {
   "cell_type": "code",
   "execution_count": 144,
   "id": "2846ba2f",
   "metadata": {},
   "outputs": [],
   "source": [
    "import pickle\n",
    "pickle.dump(v,open('vectorizer.pkl','wb'))\n",
    "pickle.dump(MNB_model,open('model.pkl','wb'))"
   ]
  }
 ],
 "metadata": {
  "kernelspec": {
   "display_name": "Python 3",
   "language": "python",
   "name": "python3"
  },
  "language_info": {
   "codemirror_mode": {
    "name": "ipython",
    "version": 3
   },
   "file_extension": ".py",
   "mimetype": "text/x-python",
   "name": "python",
   "nbconvert_exporter": "python",
   "pygments_lexer": "ipython3",
   "version": "3.8.8"
  }
 },
 "nbformat": 4,
 "nbformat_minor": 5
}
